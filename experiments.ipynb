{
 "cells": [
  {
   "attachments": {},
   "cell_type": "markdown",
   "metadata": {},
   "source": [
    "## Pre-Processing"
   ]
  },
  {
   "cell_type": "code",
   "execution_count": 1,
   "metadata": {},
   "outputs": [
    {
     "name": "stderr",
     "output_type": "stream",
     "text": [
      "[nltk_data] Downloading package punkt to /home/anshal/nltk_data...\n",
      "[nltk_data]   Package punkt is already up-to-date!\n",
      "[nltk_data] Downloading package stopwords to /home/anshal/nltk_data...\n",
      "[nltk_data]   Package stopwords is already up-to-date!\n",
      "[nltk_data] Downloading package wordnet to /home/anshal/nltk_data...\n",
      "[nltk_data]   Package wordnet is already up-to-date!\n",
      "[nltk_data] Downloading package omw-1.4 to /home/anshal/nltk_data...\n",
      "[nltk_data]   Package omw-1.4 is already up-to-date!\n"
     ]
    }
   ],
   "source": [
    "import re\n",
    "import nltk\n",
    "from nltk.corpus import stopwords\n",
    "from nltk.tokenize import word_tokenize\n",
    "from nltk.stem import WordNetLemmatizer\n",
    "\n",
    "from sklearn.metrics.pairwise import cosine_similarity\n",
    "import pandas as pd\n",
    "from sklearn.feature_extraction.text import TfidfVectorizer\n",
    "from sklearn.metrics.pairwise import cosine_similarity\n",
    "\n",
    "nltk.download('punkt')\n",
    "nltk.download('stopwords')\n",
    "nltk.download('wordnet')\n",
    "nltk.download('omw-1.4')\n",
    "\n",
    "# Function to preprocess text\n",
    "def preprocess_text(text):\n",
    "    # Tokenize the text\n",
    "    tokens = word_tokenize(text)\n",
    "    \n",
    "    # Convert text to lowercase\n",
    "    lowercased_text = text.lower()\n",
    "    \n",
    "    # Remove punctuation from text\n",
    "    punctuation_removed_text = re.sub(r'[^\\w\\s]', '', lowercased_text)\n",
    "    \n",
    "    # Remove stop words from tokens\n",
    "    stop_words = set(stopwords.words(\"english\"))\n",
    "    filtered_tokens = [token for token in tokens if token not in stop_words]\n",
    "    \n",
    "    # Remove special characters and numbers from text\n",
    "    special_characters_removed_text = re.sub(r'[^a-zA-Z\\s]', '', punctuation_removed_text)\n",
    "    \n",
    "    # Lemmatize tokens\n",
    "    lemmatizer = WordNetLemmatizer()\n",
    "    lemmatized_tokens = [lemmatizer.lemmatize(token) for token in tokens]\n",
    "    \n",
    "    # Expand contractions in text\n",
    "    contractions = {\n",
    "        \"don't\": \"do not\",\n",
    "        \"can't\": \"cannot\",\n",
    "        # Add more contractions as needed\n",
    "    }\n",
    "    expanded_text = text\n",
    "    for contraction, expansion in contractions.items():\n",
    "        expanded_text = expanded_text.replace(contraction, expansion)\n",
    "    \n",
    "    # Remove extra whitespace from text\n",
    "    cleaned_text = re.sub(' +', ' ', special_characters_removed_text)\n",
    "    \n",
    "    preprocessed_text = {\n",
    "        \"tokens\": tokens,\n",
    "        \"lowercased_text\": lowercased_text,\n",
    "        \"punctuation_removed_text\": punctuation_removed_text,\n",
    "        \"filtered_tokens\": filtered_tokens,\n",
    "        \"special_characters_removed_text\": special_characters_removed_text,\n",
    "        \"lemmatized_tokens\": lemmatized_tokens,\n",
    "        \"expanded_text\": expanded_text,\n",
    "        \"cleaned_text\": cleaned_text\n",
    "    }\n",
    "    \n",
    "    return cleaned_text\n"
   ]
  },
  {
   "cell_type": "code",
   "execution_count": 2,
   "metadata": {},
   "outputs": [
    {
     "data": {
      "text/html": [
       "<div>\n",
       "<style scoped>\n",
       "    .dataframe tbody tr th:only-of-type {\n",
       "        vertical-align: middle;\n",
       "    }\n",
       "\n",
       "    .dataframe tbody tr th {\n",
       "        vertical-align: top;\n",
       "    }\n",
       "\n",
       "    .dataframe thead th {\n",
       "        text-align: right;\n",
       "    }\n",
       "</style>\n",
       "<table border=\"1\" class=\"dataframe\">\n",
       "  <thead>\n",
       "    <tr style=\"text-align: right;\">\n",
       "      <th></th>\n",
       "      <th>link</th>\n",
       "      <th>image_url</th>\n",
       "      <th>text</th>\n",
       "    </tr>\n",
       "  </thead>\n",
       "  <tbody>\n",
       "    <tr>\n",
       "      <th>0</th>\n",
       "      <td>https://www.bewakoof.com/p/mens-beige-camoufla...</td>\n",
       "      <td>https://images.bewakoof.com/t640/men-s-beige-c...</td>\n",
       "      <td>Men's Beige and Blue Camouflage Hooded Jacket-...</td>\n",
       "    </tr>\n",
       "    <tr>\n",
       "      <th>1</th>\n",
       "      <td>https://www.bewakoof.com/p/mens-black-hooded-j...</td>\n",
       "      <td>https://images.bewakoof.com/t640/men-s-black-h...</td>\n",
       "      <td>Men's Black Hooded Jacket-Front Bewakoof</td>\n",
       "    </tr>\n",
       "    <tr>\n",
       "      <th>2</th>\n",
       "      <td>https://www.bewakoof.com/p/mens-black-hooded-j...</td>\n",
       "      <td>https://images.bewakoof.com/t640/men-s-black-h...</td>\n",
       "      <td>Men's Black Hooded Jacket-Front Bewakoof</td>\n",
       "    </tr>\n",
       "    <tr>\n",
       "      <th>3</th>\n",
       "      <td>https://www.bewakoof.com/p/mens-green-hooded-s...</td>\n",
       "      <td>https://images.bewakoof.com/t640/men-s-green-h...</td>\n",
       "      <td>Men's Green Hooded Sweatshirt-Front Bewakoof</td>\n",
       "    </tr>\n",
       "    <tr>\n",
       "      <th>4</th>\n",
       "      <td>https://www.bewakoof.com/p/mens-brown-color-bl...</td>\n",
       "      <td>https://images.bewakoof.com/t640/men-s-brown-c...</td>\n",
       "      <td>Men's Brown Color Block Hooded Sweatshirt-Fron...</td>\n",
       "    </tr>\n",
       "  </tbody>\n",
       "</table>\n",
       "</div>"
      ],
      "text/plain": [
       "                                                link  \\\n",
       "0  https://www.bewakoof.com/p/mens-beige-camoufla...   \n",
       "1  https://www.bewakoof.com/p/mens-black-hooded-j...   \n",
       "2  https://www.bewakoof.com/p/mens-black-hooded-j...   \n",
       "3  https://www.bewakoof.com/p/mens-green-hooded-s...   \n",
       "4  https://www.bewakoof.com/p/mens-brown-color-bl...   \n",
       "\n",
       "                                           image_url  \\\n",
       "0  https://images.bewakoof.com/t640/men-s-beige-c...   \n",
       "1  https://images.bewakoof.com/t640/men-s-black-h...   \n",
       "2  https://images.bewakoof.com/t640/men-s-black-h...   \n",
       "3  https://images.bewakoof.com/t640/men-s-green-h...   \n",
       "4  https://images.bewakoof.com/t640/men-s-brown-c...   \n",
       "\n",
       "                                                text  \n",
       "0  Men's Beige and Blue Camouflage Hooded Jacket-...  \n",
       "1          Men's Black Hooded Jacket-Front Bewakoof   \n",
       "2          Men's Black Hooded Jacket-Front Bewakoof   \n",
       "3      Men's Green Hooded Sweatshirt-Front Bewakoof   \n",
       "4  Men's Brown Color Block Hooded Sweatshirt-Fron...  "
      ]
     },
     "execution_count": 2,
     "metadata": {},
     "output_type": "execute_result"
    }
   ],
   "source": [
    "dataframe = pd.read_csv(\"fashion_data.csv\")\n",
    "dataframe.head()"
   ]
  },
  {
   "cell_type": "code",
   "execution_count": 3,
   "metadata": {},
   "outputs": [],
   "source": [
    "database_sequences = dataframe[\"text\"].map(preprocess_text)"
   ]
  },
  {
   "cell_type": "code",
   "execution_count": 4,
   "metadata": {},
   "outputs": [
    {
     "data": {
      "text/plain": [
       "0    mens beige and blue camouflage hooded jacketfr...\n",
       "1              mens black hooded jacketfront bewakoof \n",
       "2              mens black hooded jacketfront bewakoof \n",
       "3          mens green hooded sweatshirtfront bewakoof \n",
       "4    mens brown color block hooded sweatshirtfront ...\n",
       "5    mens yellow all over jaipuri printed shirtfron...\n",
       "6    mens grey color block hooded sweatshirtfront b...\n",
       "7    mens grey color block hooded sweatshirtfront b...\n",
       "8    mens blue striped hooded sweatshirtfront bewak...\n",
       "9    mens black graphic printed hooded sweatshirtfr...\n",
       "Name: text, dtype: object"
      ]
     },
     "execution_count": 4,
     "metadata": {},
     "output_type": "execute_result"
    }
   ],
   "source": [
    "database_sequences[-13334:10]"
   ]
  },
  {
   "cell_type": "code",
   "execution_count": 5,
   "metadata": {},
   "outputs": [],
   "source": [
    "# Input sentence\n",
    "input_sentence = \"white striped T-shirt\"\n",
    "input_sentence = preprocess_text(input_sentence)\n",
    "\n",
    "# Vectorize the sentences\n",
    "vectorizer = TfidfVectorizer()\n",
    "sentence_vectors = vectorizer.fit_transform(database_sequences.values.tolist())\n",
    "input_vector = vectorizer.transform([input_sentence])"
   ]
  },
  {
   "cell_type": "code",
   "execution_count": 6,
   "metadata": {},
   "outputs": [
    {
     "data": {
      "text/plain": [
       "dtype('float64')"
      ]
     },
     "execution_count": 6,
     "metadata": {},
     "output_type": "execute_result"
    }
   ],
   "source": [
    "input_vector.dtype"
   ]
  },
  {
   "cell_type": "code",
   "execution_count": 7,
   "metadata": {},
   "outputs": [
    {
     "name": "stdout",
     "output_type": "stream",
     "text": [
      "7357    Women's White Striped T-shirt-Front Bewakoof \n",
      "8127    Women's White Striped T-shirt-Front Bewakoof \n",
      "6567    Women's White Striped T-shirt-Front Bewakoof \n",
      "5837    Women's White Striped T-shirt-Front Bewakoof \n",
      "9797    Women's White Striped T-shirt-Front Bewakoof \n",
      "Name: text, dtype: object\n"
     ]
    }
   ],
   "source": [
    "# Calculate cosine similarity\n",
    "cosine_similarities = cosine_similarity(input_vector, sentence_vectors).flatten()\n",
    "\n",
    "# Get the indices of the most similar sentences\n",
    "most_similar_indices = cosine_similarities.argsort()[:-6:-1]\n",
    "\n",
    "# Get the most similar sentences\n",
    "most_similar_sentences = dataframe['text'].iloc[most_similar_indices]\n",
    "\n",
    "print(most_similar_sentences)"
   ]
  },
  {
   "cell_type": "code",
   "execution_count": 8,
   "metadata": {},
   "outputs": [
    {
     "data": {
      "text/plain": [
       "array([7357, 8127, 6567, 5837, 9797])"
      ]
     },
     "execution_count": 8,
     "metadata": {},
     "output_type": "execute_result"
    }
   ],
   "source": [
    "most_similar_indices"
   ]
  },
  {
   "cell_type": "code",
   "execution_count": 9,
   "metadata": {},
   "outputs": [],
   "source": [
    "test = dataframe.iloc[most_similar_indices]"
   ]
  },
  {
   "cell_type": "code",
   "execution_count": 10,
   "metadata": {},
   "outputs": [],
   "source": [
    "data = dataframe[[\"link\", \"image_url\"]]"
   ]
  },
  {
   "cell_type": "code",
   "execution_count": 11,
   "metadata": {},
   "outputs": [
    {
     "data": {
      "text/html": [
       "<div>\n",
       "<style scoped>\n",
       "    .dataframe tbody tr th:only-of-type {\n",
       "        vertical-align: middle;\n",
       "    }\n",
       "\n",
       "    .dataframe tbody tr th {\n",
       "        vertical-align: top;\n",
       "    }\n",
       "\n",
       "    .dataframe thead th {\n",
       "        text-align: right;\n",
       "    }\n",
       "</style>\n",
       "<table border=\"1\" class=\"dataframe\">\n",
       "  <thead>\n",
       "    <tr style=\"text-align: right;\">\n",
       "      <th></th>\n",
       "      <th>link</th>\n",
       "      <th>image_url</th>\n",
       "    </tr>\n",
       "  </thead>\n",
       "  <tbody>\n",
       "    <tr>\n",
       "      <th>0</th>\n",
       "      <td>https://www.bewakoof.com/p/mens-beige-camoufla...</td>\n",
       "      <td>https://images.bewakoof.com/t640/men-s-beige-c...</td>\n",
       "    </tr>\n",
       "    <tr>\n",
       "      <th>1</th>\n",
       "      <td>https://www.bewakoof.com/p/mens-black-hooded-j...</td>\n",
       "      <td>https://images.bewakoof.com/t640/men-s-black-h...</td>\n",
       "    </tr>\n",
       "    <tr>\n",
       "      <th>2</th>\n",
       "      <td>https://www.bewakoof.com/p/mens-black-hooded-j...</td>\n",
       "      <td>https://images.bewakoof.com/t640/men-s-black-h...</td>\n",
       "    </tr>\n",
       "    <tr>\n",
       "      <th>3</th>\n",
       "      <td>https://www.bewakoof.com/p/mens-green-hooded-s...</td>\n",
       "      <td>https://images.bewakoof.com/t640/men-s-green-h...</td>\n",
       "    </tr>\n",
       "    <tr>\n",
       "      <th>4</th>\n",
       "      <td>https://www.bewakoof.com/p/mens-brown-color-bl...</td>\n",
       "      <td>https://images.bewakoof.com/t640/men-s-brown-c...</td>\n",
       "    </tr>\n",
       "    <tr>\n",
       "      <th>...</th>\n",
       "      <td>...</td>\n",
       "      <td>...</td>\n",
       "    </tr>\n",
       "    <tr>\n",
       "      <th>9995</th>\n",
       "      <td>https://www.bewakoof.com/p/sleeveless-denim-ja...</td>\n",
       "      <td>https://images.bewakoof.com/t640/sleeveless-ic...</td>\n",
       "    </tr>\n",
       "    <tr>\n",
       "      <th>9996</th>\n",
       "      <td>https://www.bewakoof.com/p/stay-motivated-stri...</td>\n",
       "      <td>https://images.bewakoof.com/t640/stay-motivate...</td>\n",
       "    </tr>\n",
       "    <tr>\n",
       "      <th>9997</th>\n",
       "      <td>https://www.bewakoof.com/p/cream-ww-women-half...</td>\n",
       "      <td>https://images.bewakoof.com/t640/women-s-half-...</td>\n",
       "    </tr>\n",
       "    <tr>\n",
       "      <th>9998</th>\n",
       "      <td>https://www.bewakoof.com/p/peach-ww-women-half...</td>\n",
       "      <td>https://images.bewakoof.com/t640/women-s-half-...</td>\n",
       "    </tr>\n",
       "    <tr>\n",
       "      <th>9999</th>\n",
       "      <td>https://www.bewakoof.com/p/books-not-guns-crew...</td>\n",
       "      <td>https://images.bewakoof.com/t640/books-not-gun...</td>\n",
       "    </tr>\n",
       "  </tbody>\n",
       "</table>\n",
       "<p>10000 rows × 2 columns</p>\n",
       "</div>"
      ],
      "text/plain": [
       "                                                   link  \\\n",
       "0     https://www.bewakoof.com/p/mens-beige-camoufla...   \n",
       "1     https://www.bewakoof.com/p/mens-black-hooded-j...   \n",
       "2     https://www.bewakoof.com/p/mens-black-hooded-j...   \n",
       "3     https://www.bewakoof.com/p/mens-green-hooded-s...   \n",
       "4     https://www.bewakoof.com/p/mens-brown-color-bl...   \n",
       "...                                                 ...   \n",
       "9995  https://www.bewakoof.com/p/sleeveless-denim-ja...   \n",
       "9996  https://www.bewakoof.com/p/stay-motivated-stri...   \n",
       "9997  https://www.bewakoof.com/p/cream-ww-women-half...   \n",
       "9998  https://www.bewakoof.com/p/peach-ww-women-half...   \n",
       "9999  https://www.bewakoof.com/p/books-not-guns-crew...   \n",
       "\n",
       "                                              image_url  \n",
       "0     https://images.bewakoof.com/t640/men-s-beige-c...  \n",
       "1     https://images.bewakoof.com/t640/men-s-black-h...  \n",
       "2     https://images.bewakoof.com/t640/men-s-black-h...  \n",
       "3     https://images.bewakoof.com/t640/men-s-green-h...  \n",
       "4     https://images.bewakoof.com/t640/men-s-brown-c...  \n",
       "...                                                 ...  \n",
       "9995  https://images.bewakoof.com/t640/sleeveless-ic...  \n",
       "9996  https://images.bewakoof.com/t640/stay-motivate...  \n",
       "9997  https://images.bewakoof.com/t640/women-s-half-...  \n",
       "9998  https://images.bewakoof.com/t640/women-s-half-...  \n",
       "9999  https://images.bewakoof.com/t640/books-not-gun...  \n",
       "\n",
       "[10000 rows x 2 columns]"
      ]
     },
     "execution_count": 11,
     "metadata": {},
     "output_type": "execute_result"
    }
   ],
   "source": [
    "data"
   ]
  },
  {
   "cell_type": "code",
   "execution_count": 12,
   "metadata": {},
   "outputs": [
    {
     "data": {
      "text/plain": [
       "(10000, 3)"
      ]
     },
     "execution_count": 12,
     "metadata": {},
     "output_type": "execute_result"
    }
   ],
   "source": [
    "dataframe.shape"
   ]
  },
  {
   "cell_type": "code",
   "execution_count": 13,
   "metadata": {},
   "outputs": [],
   "source": [
    "unique_df = dataframe.drop_duplicates(subset='text')"
   ]
  },
  {
   "cell_type": "code",
   "execution_count": 23,
   "metadata": {},
   "outputs": [
    {
     "data": {
      "text/plain": [
       "(51, 3)"
      ]
     },
     "execution_count": 23,
     "metadata": {},
     "output_type": "execute_result"
    }
   ],
   "source": [
    "unique_df.shape"
   ]
  },
  {
   "cell_type": "code",
   "execution_count": 27,
   "metadata": {},
   "outputs": [],
   "source": [
    "json_val = unique_df.to_json(orient='records', force_ascii=False)"
   ]
  },
  {
   "cell_type": "code",
   "execution_count": 28,
   "metadata": {},
   "outputs": [
    {
     "data": {
      "text/plain": [
       "'[{\"link\":\"https:\\\\/\\\\/www.bewakoof.com\\\\/p\\\\/mens-beige-camouflage-hooded-jacket-34\",\"image_url\":\"https:\\\\/\\\\/images.bewakoof.com\\\\/t640\\\\/men-s-beige-camouflage-hooded-jacket-545776-1664353175-1.jpg\",\"text\":\"Men\\'s Beige and Blue Camouflage Hooded Jacket-Front Bewakoof \"},{\"link\":\"https:\\\\/\\\\/www.bewakoof.com\\\\/p\\\\/mens-black-hooded-jacket-30\",\"image_url\":\"https:\\\\/\\\\/images.bewakoof.com\\\\/t640\\\\/men-s-black-hooded-jacket-545773-1664351838-1.jpg\",\"text\":\"Men\\'s Black Hooded Jacket-Front Bewakoof \"},{\"link\":\"https:\\\\/\\\\/www.bewakoof.com\\\\/p\\\\/mens-green-hooded-sweatshirt-men\",\"image_url\":\"https:\\\\/\\\\/images.bewakoof.com\\\\/t640\\\\/men-s-green-hooded-sweatshirt-545926-1664439533-1.jpg\",\"text\":\"Men\\'s Green Hooded Sweatshirt-Front Bewakoof \"},{\"link\":\"https:\\\\/\\\\/www.bewakoof.com\\\\/p\\\\/mens-brown-color-block-hooded-sweatshirt\",\"image_url\":\"https:\\\\/\\\\/images.bewakoof.com\\\\/t640\\\\/men-s-brown-color-block-hooded-sweatshirt-545940-1664439496-1.jpg\",\"text\":\"Men\\'s Brown Color Block Hooded Sweatshirt-Front Bewakoof \"},{\"link\":\"https:\\\\/\\\\/www.bewakoof.com\\\\/p\\\\/mens-yellow-all-over-jaipuri-printed-shirt-20\",\"image_url\":\"https:\\\\/\\\\/images.bewakoof.com\\\\/t640\\\\/men-s-yellow-all-over-jaipuri-printed-shirt-547913-1665573789-1.jpg\",\"text\":\"Men\\'s Yellow All Over Jaipuri Printed Shirt-Front Bewakoof \"},{\"link\":\"https:\\\\/\\\\/www.bewakoof.com\\\\/p\\\\/mens-grey-color-block-hooded-sweatshirt-men-grey\",\"image_url\":\"https:\\\\/\\\\/images.bewakoof.com\\\\/t640\\\\/men-s-grey-color-block-hooded-sweatshirt-545977-1664439967-1.jpg\",\"text\":\"Men\\'s Grey Color Block Hooded Sweatshirt-Front Bewakoof \"},{\"link\":\"https:\\\\/\\\\/www.bewakoof.com\\\\/p\\\\/mens-blue-striped-hooded-sweatshirtccc\",\"image_url\":\"https:\\\\/\\\\/images.bewakoof.com\\\\/t640\\\\/men-s-blue-striped-hooded-sweatshirt-546019-1664439387-1.jpg\",\"text\":\"Men\\'s Blue Striped Hooded Sweatshirt-Front Bewakoof \"},{\"link\":\"https:\\\\/\\\\/www.bewakoof.com\\\\/p\\\\/mens-black-graphic-printed-hooded-sweatshirt22\",\"image_url\":\"https:\\\\/\\\\/images.bewakoof.com\\\\/t640\\\\/men-s-black-graphic-printed-hooded-sweatshirt-546029-1664438680-1.jpg\",\"text\":\"Men\\'s Black Graphic Printed Hooded Sweatshirt-Front Bewakoof \"},{\"link\":\"https:\\\\/\\\\/www.bewakoof.com\\\\/p\\\\/men-friends-logo-printed-sweatshirt-men\",\"image_url\":\"https:\\\\/\\\\/images.bewakoof.com\\\\/t640\\\\/men-friends-logo-printed-sweatshirt-557029-1670918374-1.jpg\",\"text\":\"Men\\'s Red Friends Logo Typography Sweatshirt-Front Bewakoof \"},{\"link\":\"https:\\\\/\\\\/www.bewakoof.com\\\\/p\\\\/mens-blue-washed-jeans-10-men-blue\",\"image_url\":\"https:\\\\/\\\\/images.bewakoof.com\\\\/t640\\\\/men-s-blue-washed-jeans-555173-1668673901-1.jpg\",\"text\":\"Men\\'s Blue Washed Jeans-Front Bewakoof \"},{\"link\":\"https:\\\\/\\\\/www.bewakoof.com\\\\/p\\\\/mens-blue-slim-fit-jeans-15\",\"image_url\":\"https:\\\\/\\\\/images.bewakoof.com\\\\/t640\\\\/men-s-blue-slim-fit-jeans-558167-1669974190-1.jpg\",\"text\":\"Men\\'s Blue Slim Fit Jeans-Front Bewakoof \"},{\"link\":\"https:\\\\/\\\\/www.bewakoof.com\\\\/p\\\\/mens-blue-washed-slim-fit-jeans-16-men\",\"image_url\":\"https:\\\\/\\\\/images.bewakoof.com\\\\/t640\\\\/men-s-blue-washed-slim-fit-jeans-558168-1669974575-1.jpg\",\"text\":\"Men\\'s Blue Washed Slim Fit Jeans-Front Bewakoof \"},{\"link\":\"https:\\\\/\\\\/www.bewakoof.com\\\\/p\\\\/mens-grey-jacket-35\",\"image_url\":\"https:\\\\/\\\\/images.bewakoof.com\\\\/t640\\\\/men-s-grey-jacket-555126-1668585726-1.jpg\",\"text\":\"Men\\'s Grey Jacket-Front Bewakoof \"},{\"link\":\"https:\\\\/\\\\/www.bewakoof.com\\\\/p\\\\/mens-blue-distressed-slim-fit-jeans-23\",\"image_url\":\"https:\\\\/\\\\/images.bewakoof.com\\\\/t640\\\\/men-s-blue-distressed-slim-fit-jeans-558172-1669974650-1.jpg\",\"text\":\"Men\\'s Blue Distressed Slim Fit Jeans-Front Bewakoof \"},{\"link\":\"https:\\\\/\\\\/www.bewakoof.com\\\\/p\\\\/mens-black-slim-fit-jeans-25\",\"image_url\":\"https:\\\\/\\\\/images.bewakoof.com\\\\/t640\\\\/men-s-black-slim-fit-jeans-558175-1669974895-1.JPG\",\"text\":\"Men\\'s Black Slim Fit Jeans-Front Bewakoof \"},{\"link\":\"https:\\\\/\\\\/www.bewakoof.com\\\\/p\\\\/mens-purple-beast-within-2-0-oversized-t-shirt\",\"image_url\":\"https:\\\\/\\\\/images.bewakoof.com\\\\/t640\\\\/men-s-purple-beast-within-2-0-oversized-t-shirt-581488-1677228989-1.jpg\",\"text\":\"Men\\'s Purple Beast Within Graphic Printed Oversized T-shirt-Front Bewakoof \"},{\"link\":\"https:\\\\/\\\\/www.bewakoof.com\\\\/p\\\\/mens-blue-stoned-panda-graphic-printed-oversized-t-shirt\",\"image_url\":\"https:\\\\/\\\\/images.bewakoof.com\\\\/t640\\\\/men-s-blue-stoned-panda-graphic-printed-oversized-t-shirt-592041-1684136592-1.jpg\",\"text\":\"Men\\'s Blue Stoned Panda Graphic Printed Oversized T-shirt-Front Bewakoof \"},{\"link\":\"https:\\\\/\\\\/www.bewakoof.com\\\\/p\\\\/mens-blue-the-dark-knight-graphic-printed-oversized-t-shirt\",\"image_url\":\"https:\\\\/\\\\/images.bewakoof.com\\\\/t640\\\\/men-s-blue-the-dark-knight-graphic-printed-oversized-t-shirt-592034-1684136327-1.jpg\",\"text\":\"Men\\'s Blue The Dark Knight Graphic Printed Oversized T-shirt-Front Bewakoof \"},{\"link\":\"https:\\\\/\\\\/www.bewakoof.com\\\\/p\\\\/mens-blue-the-dark-knight-graphic-printed-oversized-t-shirt-men\",\"image_url\":\"https:\\\\/\\\\/images.bewakoof.com\\\\/t640\\\\/men-s-blue-the-dark-knight-graphic-printed-oversized-t-shirt-592058-1684136801-1.jpg\",\"text\":\"Men\\'s Navy Blue The Dark Knight Graphic Printed Oversized T-shirt-Front Bewakoof \"},{\"link\":\"https:\\\\/\\\\/www.bewakoof.com\\\\/custom-design?pid=443960\",\"image_url\":\"https:\\\\/\\\\/images.bewakoof.com\\\\/t640\\\\/men-s-black-customizable-t-shirt-443960-1683883072-1.jpg\",\"text\":\"Men\\'s Black Customizable T-shirt-Front Bewakoof \"},{\"link\":\"https:\\\\/\\\\/www.bewakoof.com\\\\/p\\\\/mens-blue-stoned-panda-graphic-printed-oversized-t-shirt-men\",\"image_url\":\"https:\\\\/\\\\/images.bewakoof.com\\\\/t640\\\\/men-s-blue-stoned-panda-graphic-printed-oversized-t-shirt-592059-1684136716-1.jpg\",\"text\":\"Men\\'s Navy Blue Stoned Panda Graphic Printed Oversized T-shirt-Front Bewakoof \"},{\"link\":\"https:\\\\/\\\\/www.bewakoof.com\\\\/p\\\\/mens-green-watching-you-change-colours-graphic-printed-oversized-t-shirt\",\"image_url\":\"https:\\\\/\\\\/images.bewakoof.com\\\\/t640\\\\/men-s-green-watching-you-change-colours-graphic-printed-oversized-t-shirt-592039-1684137286-1.jpg\",\"text\":\"Men\\'s Green Watching You Change Colours Graphic Printed Oversized T-shirt-Front Bewakoof \"},{\"link\":\"https:\\\\/\\\\/www.bewakoof.com\\\\/p\\\\/mens-grey-stoned-panda-graphic-printed-t-shirt\",\"image_url\":\"https:\\\\/\\\\/images.bewakoof.com\\\\/t640\\\\/men-s-grey-stoned-panda-graphic-printed-t-shirt-592043-1684137325-1.jpg\",\"text\":\"Men\\'s Grey Stoned Panda Graphic Printed T-shirt-Front Bewakoof \"},{\"link\":\"https:\\\\/\\\\/www.bewakoof.com\\\\/p\\\\/mens-blue-stoned-panda-graphic-printed-oversized-plus-sizet-shirt\",\"image_url\":\"https:\\\\/\\\\/images.bewakoof.com\\\\/t640\\\\/men-s-blue-stoned-panda-graphic-printed-oversized-plus-sizet-shirt-592049-1684136762-1.jpg\",\"text\":\"Men\\'s Blue Stoned Panda Graphic Printed Oversized Plus SizeT-shirt-Front Bewakoof \"},{\"link\":\"https:\\\\/\\\\/www.bewakoof.com\\\\/p\\\\/nevy-blue-mens-plain-round-neck-t-shirt\",\"image_url\":\"https:\\\\/\\\\/images.bewakoof.com\\\\/t640\\\\/men-s-blue-t-shirt-115-1659608420-1.jpg\",\"text\":\"Men\\'s Blue T-shirt-Front Bewakoof \"},{\"link\":\"https:\\\\/\\\\/www.bewakoof.com\\\\/p\\\\/giddy-up-boyfriend-t-shirt\",\"image_url\":\"https:\\\\/\\\\/images.bewakoof.com\\\\/t640\\\\/women-s-black-giddy-up-graphic-printed-boyfriend-t-shirt-545705-1673428072-1.jpg\",\"text\":\"Women\\'s Black Giddy Up Graphic Printed Boyfriend T-shirt-Front Bewakoof \"},{\"link\":\"https:\\\\/\\\\/www.bewakoof.com\\\\/p\\\\/friday-therapy-womens-boyfriend-t-shirt-plus-size-women-green\",\"image_url\":\"https:\\\\/\\\\/images.bewakoof.com\\\\/t640\\\\/friday-therapy-women-s-boyfriend-t-shirt-plus-size-546125-1673011297-1.jpg\",\"text\":\"Women\\'s Green Friday Therapy Typography Plus Size Boyfriend T-shirt-Front Bewakoof \"},{\"link\":\"https:\\\\/\\\\/www.bewakoof.com\\\\/p\\\\/crop-denim-jacket-with-polo-neck-and-full-gathered-sleeves-for-women\",\"image_url\":\"https:\\\\/\\\\/images.bewakoof.com\\\\/t640\\\\/dark-blue-raw-edge-denim-shacket-296453-1656109570-1.jpg\",\"text\":\"Women\\'s Blue Relaxed Fit Denim Jacket-Front Bewakoof \"},{\"link\":\"https:\\\\/\\\\/www.bewakoof.com\\\\/p\\\\/solid-jacket-with-number-patch-on-the-sleeves-for-women\",\"image_url\":\"https:\\\\/\\\\/images.bewakoof.com\\\\/t640\\\\/varsity-black-denim-jacket-296448-1656159705-1.jpg\",\"text\":\"Women\\'s Black Relaxed Fit Denim Jacket-Front Bewakoof \"},{\"link\":\"https:\\\\/\\\\/www.bewakoof.com\\\\/p\\\\/stay-motivated-stripe-round-neck-3-4-sleeve-t-shirts-white\",\"image_url\":\"https:\\\\/\\\\/images.bewakoof.com\\\\/t640\\\\/stay-motivated-stripe-3-4th-sleeve-slim-fit-t-shirt-white-295519-1655928165-1.jpg\",\"text\":\"Stay Motivated Stripe 3\\\\/4th Sleeve Slim Fit T-Shirt White-Front Bewakoof \"},{\"link\":\"https:\\\\/\\\\/www.bewakoof.com\\\\/p\\\\/cream-ww-women-half-sleeves-t-shirt\",\"image_url\":\"https:\\\\/\\\\/images.bewakoof.com\\\\/t640\\\\/women-s-half-sleeves-t-shirt-295728-1656160704-1.jpg\",\"text\":\"Women\\'s White Striped T-shirt-Front Bewakoof \"},{\"link\":\"https:\\\\/\\\\/www.bewakoof.com\\\\/p\\\\/peach-ww-women-half-sleeves-t-shirt\",\"image_url\":\"https:\\\\/\\\\/images.bewakoof.com\\\\/t640\\\\/women-s-half-sleeves-top-295730-1656180694-1.jpg\",\"text\":\"Women\\'s Half Sleeves Top-Front Bewakoof \"},{\"link\":\"https:\\\\/\\\\/www.bewakoof.com\\\\/p\\\\/books-not-guns-crewneck-varsity-rib-h-s-t-shirt-multicolors\",\"image_url\":\"https:\\\\/\\\\/images.bewakoof.com\\\\/t640\\\\/books-not-guns-crewneck-varsity-rib-h-s-t-shirt-multicolors-297907-1656193668-1.jpg\",\"text\":\"Books Not Guns Crewneck Varsity Rib T-Shirt Multicolors-Front Bewakoof \"},{\"link\":\"https:\\\\/\\\\/www.bewakoof.com\\\\/p\\\\/women-friends-logo-printed-sweatshirt\",\"image_url\":\"https:\\\\/\\\\/images.bewakoof.com\\\\/t640\\\\/women-s-black-friends-logo-typography-oversized-sweatshirt-557028-1672828315-1.jpg\",\"text\":\"Women\\'s Black Friends Logo Typography Oversized Sweatshirt-Front Bewakoof \"},{\"link\":\"https:\\\\/\\\\/www.bewakoof.com\\\\/p\\\\/womens-blue-skinny-fit-jeans-30\",\"image_url\":\"https:\\\\/\\\\/images.bewakoof.com\\\\/t640\\\\/women-s-blue-skinny-fit-jeans-555193-1668673859-1.jpg\",\"text\":\"Women\\'s Blue Skinny fit Jeans-Front Bewakoof \"},{\"link\":\"https:\\\\/\\\\/www.bewakoof.com\\\\/p\\\\/womens-black-skinny-fit-jeans-38\",\"image_url\":\"https:\\\\/\\\\/images.bewakoof.com\\\\/t640\\\\/women-s-black-skinny-fit-jeans-555200-1668673880-1.jpg\",\"text\":\"Women\\'s Black Skinny fit Jeans-Front Bewakoof \"},{\"link\":\"https:\\\\/\\\\/www.bewakoof.com\\\\/p\\\\/womens-blue-mom-fit-jeans-28\",\"image_url\":\"https:\\\\/\\\\/images.bewakoof.com\\\\/t640\\\\/women-s-blue-mom-fit-jeans-555180-1668673997-1.jpg\",\"text\":\"Women\\'s Blue Mom Fit Jeans-Front Bewakoof \"},{\"link\":\"https:\\\\/\\\\/www.bewakoof.com\\\\/p\\\\/womens-blue-straight-fit-jeans-42\",\"image_url\":\"https:\\\\/\\\\/images.bewakoof.com\\\\/t640\\\\/women-s-blue-straight-fit-jeans-555203-1668674246-1.jpg\",\"text\":\"Women\\'s Blue Straight Fit Jeans-Front Bewakoof \"},{\"link\":\"https:\\\\/\\\\/www.bewakoof.com\\\\/p\\\\/womens-grey-and-black-color-block-tracksuit-1\",\"image_url\":\"https:\\\\/\\\\/images.bewakoof.com\\\\/t640\\\\/women-s-grey-and-black-color-block-tracksuit-558299-1670237614-1.jpg\",\"text\":\"Women\\'s Grey and Black Color Block Tracksuit-Front Bewakoof \"},{\"link\":\"https:\\\\/\\\\/www.bewakoof.com\\\\/p\\\\/womens-green-and-grey-color-block-tracksuit-1\",\"image_url\":\"https:\\\\/\\\\/images.bewakoof.com\\\\/t640\\\\/women-s-green-and-grey-color-block-tracksuit-558300-1670237140-1.jpg\",\"text\":\"Women\\'s Green and Grey Color Block Tracksuit-Front Bewakoof \"},{\"link\":\"https:\\\\/\\\\/www.bewakoof.com\\\\/p\\\\/womens-beige-and-yellow-striped-tracksuit-1\",\"image_url\":\"https:\\\\/\\\\/images.bewakoof.com\\\\/t640\\\\/women-s-beige-and-yellow-striped-tracksuit-558301-1670237708-1.jpg\",\"text\":\"Women\\'s Beige and Yellow Striped Tracksuit-Front Bewakoof \"},{\"link\":\"https:\\\\/\\\\/www.bewakoof.com\\\\/p\\\\/womens-green-weirdos-4evr-graphic-printed-oversized-t-shirt\",\"image_url\":\"https:\\\\/\\\\/images.bewakoof.com\\\\/t640\\\\/women-s-green-weirdos-4evr-graphic-printed-oversized-t-shirt-592030-1684136677-1.jpg\",\"text\":\"Women\\'s Green Weirdos Forever Graphic Printed Oversized T-shirt-Front Bewakoof \"},{\"link\":\"https:\\\\/\\\\/www.bewakoof.com\\\\/p\\\\/womens-orange-weirdos-4evr-graphic-printed-oversized-t-shirt\",\"image_url\":\"https:\\\\/\\\\/images.bewakoof.com\\\\/t640\\\\/women-s-orange-weirdos-4evr-graphic-printed-oversized-t-shirt-592031-1684137167-1.jpg\",\"text\":\"Women\\'s Orange Weirdos Forever Graphic Printed Oversized T-shirt-Front Bewakoof \"},{\"link\":\"https:\\\\/\\\\/www.bewakoof.com\\\\/p\\\\/womens-orange-explorer-bunny-graphic-printed-oversized-t-shirt\",\"image_url\":\"https:\\\\/\\\\/images.bewakoof.com\\\\/t640\\\\/women-s-orange-explorer-bunny-graphic-printed-oversized-t-shirt-592042-1684136846-1.jpg\",\"text\":\"Women\\'s Orange Explorer Bunny Graphic Printed Oversized T-shirt-Front Bewakoof \"},{\"link\":\"https:\\\\/\\\\/www.bewakoof.com\\\\/p\\\\/womens-green-explorer-bunny-graphic-printed-oversized-t-shirt\",\"image_url\":\"https:\\\\/\\\\/images.bewakoof.com\\\\/t640\\\\/women-s-green-explorer-bunny-graphic-printed-oversized-t-shirt-592038-1684137083-1.jpg\",\"text\":\"Women\\'s Green Explorer Bunny Graphic Printed Oversized T-shirt-Front Bewakoof \"},{\"link\":\"https:\\\\/\\\\/www.bewakoof.com\\\\/p\\\\/womens-black-who-needs-people-graphic-printed-boyfriend-plus-size-t-shirt\",\"image_url\":\"https:\\\\/\\\\/images.bewakoof.com\\\\/t640\\\\/women-s-black-who-needs-people-graphic-printed-boyfriend-plus-size-t-shirt-592052-1684137364-1.jpg\",\"text\":\"Women\\'s Black Who Needs People Graphic Printed Boyfriend Plus Size T-shirt-Front Bewakoof \"},{\"link\":\"https:\\\\/\\\\/www.bewakoof.com\\\\/p\\\\/womens-purple-weirdos-4evr-graphic-printed-boyfriend-t-shirt\",\"image_url\":\"https:\\\\/\\\\/images.bewakoof.com\\\\/t640\\\\/women-s-purple-weirdos-4evr-graphic-printed-boyfriend-t-shirt-592045-1684136485-1.jpg\",\"text\":\"Women\\'s Purple Weirdos Forever Graphic Printed Boyfriend T-shirt-Front Bewakoof \"},{\"link\":\"https:\\\\/\\\\/www.bewakoof.com\\\\/p\\\\/womens-purple-explorer-bunny-graphic-printed-boyfriend-t-shirt\",\"image_url\":\"https:\\\\/\\\\/images.bewakoof.com\\\\/t640\\\\/women-s-purple-explorer-bunny-graphic-printed-boyfriend-t-shirt-592048-1684136637-1.jpg\",\"text\":\"Women\\'s Purple Explorer Bunny Graphic Printed Boyfriend T-shirt-Front Bewakoof \"},{\"link\":\"https:\\\\/\\\\/www.bewakoof.com\\\\/p\\\\/bella-tokyo-half-sleeve-t-shirt-for-women\",\"image_url\":\"https:\\\\/\\\\/images.bewakoof.com\\\\/t640\\\\/women-s-white-bella-ciao-slim-fit-t-shirt-270505-1655748122-1.jpg\",\"text\":\"Women\\'s White Bella Ciao Graphic Printed Slim Fit T-shirt-Front Bewakoof \"},{\"link\":\"https:\\\\/\\\\/www.bewakoof.com\\\\/p\\\\/womens-black-who-needs-people-graphic-printed-oversized-t-shirt\",\"image_url\":\"https:\\\\/\\\\/images.bewakoof.com\\\\/t640\\\\/women-s-black-who-needs-people-graphic-printed-oversized-t-shirt-592051-1684136552-1.jpg\",\"text\":\"Women\\'s Black Who Needs People Graphic Printed Oversized T-shirt-Front Bewakoof \"},{\"link\":\"https:\\\\/\\\\/www.bewakoof.com\\\\/p\\\\/womens-brown-explorer-bunny-graphic-printed-boyfriend-t-shirt\",\"image_url\":\"https:\\\\/\\\\/images.bewakoof.com\\\\/t640\\\\/women-s-brown-explorer-bunny-graphic-printed-boyfriend-t-shirt-592053-1684137044-1.jpg\",\"text\":\"Women\\'s Brown Explorer Bunny Graphic Printed Boyfriend T-shirt-Front Bewakoof \"}]'"
      ]
     },
     "execution_count": 28,
     "metadata": {},
     "output_type": "execute_result"
    }
   ],
   "source": [
    "json_val"
   ]
  },
  {
   "cell_type": "code",
   "execution_count": null,
   "metadata": {},
   "outputs": [],
   "source": []
  },
  {
   "cell_type": "code",
   "execution_count": null,
   "metadata": {},
   "outputs": [],
   "source": []
  }
 ],
 "metadata": {
  "kernelspec": {
   "display_name": "tf",
   "language": "python",
   "name": "python3"
  },
  "language_info": {
   "codemirror_mode": {
    "name": "ipython",
    "version": 3
   },
   "file_extension": ".py",
   "mimetype": "text/x-python",
   "name": "python",
   "nbconvert_exporter": "python",
   "pygments_lexer": "ipython3",
   "version": "3.9.12"
  },
  "orig_nbformat": 4
 },
 "nbformat": 4,
 "nbformat_minor": 2
}
