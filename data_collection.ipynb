{
 "cells": [
  {
   "cell_type": "code",
   "execution_count": 1,
   "metadata": {},
   "outputs": [
    {
     "name": "stderr",
     "output_type": "stream",
     "text": [
      "2023-05-21 21:51:25.815309: I tensorflow/core/util/port.cc:110] oneDNN custom operations are on. You may see slightly different numerical results due to floating-point round-off errors from different computation orders. To turn them off, set the environment variable `TF_ENABLE_ONEDNN_OPTS=0`.\n",
      "2023-05-21 21:51:25.816875: I tensorflow/tsl/cuda/cudart_stub.cc:28] Could not find cuda drivers on your machine, GPU will not be used.\n",
      "2023-05-21 21:51:25.853612: I tensorflow/tsl/cuda/cudart_stub.cc:28] Could not find cuda drivers on your machine, GPU will not be used.\n",
      "2023-05-21 21:51:25.855687: I tensorflow/core/platform/cpu_feature_guard.cc:182] This TensorFlow binary is optimized to use available CPU instructions in performance-critical operations.\n",
      "To enable the following instructions: AVX2 AVX512F AVX512_VNNI FMA, in other operations, rebuild TensorFlow with the appropriate compiler flags.\n",
      "2023-05-21 21:51:26.468197: W tensorflow/compiler/tf2tensorrt/utils/py_utils.cc:38] TF-TRT Warning: Could not find TensorRT\n"
     ]
    }
   ],
   "source": [
    "import numpy as np\n",
    "import pandas as pd\n",
    "import tensorflow as tf\n",
    "\n",
    "\n",
    "from bs4 import BeautifulSoup\n",
    "import requests"
   ]
  },
  {
   "cell_type": "code",
   "execution_count": 2,
   "metadata": {},
   "outputs": [],
   "source": [
    "# Function to scrape clothing item details from a website\n",
    "def scrape_clothing_details(url, class_name):\n",
    "    response = requests.get(url)\n",
    "    html_content = response.content\n",
    "    soup = BeautifulSoup(html_content, \"html.parser\")\n",
    "    items = soup.find_all(\"div\", class_=class_name)\n",
    "    \n",
    "    clothing_details = []\n",
    "    for item in items:\n",
    "        link = item.find(\"a\")[\"href\"] if item.find(\"a\") else \"\"\n",
    "        image = item.find(\"img\")\n",
    "        image_url = image[\"src\"] if image else \"\"\n",
    "        image_title = image[\"title\"] if image and \"title\" in image.attrs else \"\"\n",
    "        text = item.find(\"p\").get_text(strip=True) if item.find(\"p\") else \"\"\n",
    "        text_with_title = f\"{image_title} {text}\"\n",
    "        clothing_details.append({\"link\": link, \"image_url\": image_url, \"text\": text_with_title})\n",
    "    \n",
    "    return clothing_details"
   ]
  },
  {
   "cell_type": "code",
   "execution_count": 3,
   "metadata": {},
   "outputs": [
    {
     "name": "stdout",
     "output_type": "stream",
     "text": [
      "10\n"
     ]
    }
   ],
   "source": [
    "url = \"https://www.bewakoof.com/men-clothing\"\n",
    "\n",
    "item_desc = scrape_clothing_details(url, \"plp-product-card\")\n",
    "print(len(item_desc))"
   ]
  },
  {
   "cell_type": "code",
   "execution_count": 4,
   "metadata": {},
   "outputs": [],
   "source": [
    "# Specify the base URL of the website to scrape\n",
    "base_url_m = \"https://www.bewakoof.com/men-clothing\"\n",
    "\n",
    "base_url_w = \"https://www.bewakoof.com/women-clothing\"\n",
    "\n",
    "# Specify the class name of the elements containing clothing details\n",
    "class_name = \"plp-product-card\"\n",
    "\n",
    "# Scrape clothing details from multiple pages\n",
    "all_details_men = []\n",
    "all_details_women = []\n",
    "\n",
    "for page_num in range(1, 51):  # Scraping 50 pages\n",
    "    # men\n",
    "    url_men = f\"{base_url_m}?page={page_num}\"\n",
    "    page_details = scrape_clothing_details(url_men, class_name)\n",
    "    all_details_men.extend(page_details)\n",
    "\n",
    "    # women\n",
    "    url_women = f\"{base_url_w}?page={page_num}\"\n",
    "    page_details = scrape_clothing_details(url_women, class_name)\n",
    "    all_details_women.extend(page_details)"
   ]
  },
  {
   "cell_type": "code",
   "execution_count": 5,
   "metadata": {},
   "outputs": [
    {
     "data": {
      "text/plain": [
       "{'link': '/p/men-friends-logo-printed-sweatshirt-men',\n",
       " 'image_url': 'https://images.bewakoof.com/t640/men-friends-logo-printed-sweatshirt-557029-1670918374-1.jpg',\n",
       " 'text': \"Men's Red Friends Logo Typography Sweatshirt-Front Bewakoof \"}"
      ]
     },
     "execution_count": 5,
     "metadata": {},
     "output_type": "execute_result"
    }
   ],
   "source": [
    "all_details_men[0]"
   ]
  },
  {
   "cell_type": "code",
   "execution_count": 6,
   "metadata": {},
   "outputs": [
    {
     "data": {
      "text/plain": [
       "{'link': '/p/women-friends-logo-printed-sweatshirt',\n",
       " 'image_url': 'https://images.bewakoof.com/t640/women-s-black-friends-logo-typography-oversized-sweatshirt-557028-1672828315-1.jpg',\n",
       " 'text': \"Women's Black Friends Logo Typography Oversized Sweatshirt-Front Bewakoof \"}"
      ]
     },
     "execution_count": 6,
     "metadata": {},
     "output_type": "execute_result"
    }
   ],
   "source": [
    "all_details_women[0]"
   ]
  },
  {
   "cell_type": "code",
   "execution_count": 7,
   "metadata": {},
   "outputs": [],
   "source": [
    "final_df = all_details_men + all_details_women"
   ]
  },
  {
   "cell_type": "code",
   "execution_count": 8,
   "metadata": {},
   "outputs": [],
   "source": [
    "for map in final_df:\n",
    "    map[\"link\"] = \"https://www.bewakoof.com\" + map[\"link\"]"
   ]
  },
  {
   "cell_type": "code",
   "execution_count": 9,
   "metadata": {},
   "outputs": [
    {
     "data": {
      "text/plain": [
       "{'link': 'https://www.bewakoof.com/p/mens-black-hooded-jacket-3',\n",
       " 'image_url': 'https://images.bewakoof.com/t640/men-s-black-hooded-jacket-545758-1664352540-1.jpg',\n",
       " 'text': \"Men's Black Hooded Jacket-Front Bewakoof \"}"
      ]
     },
     "execution_count": 9,
     "metadata": {},
     "output_type": "execute_result"
    }
   ],
   "source": [
    "final_df[12]"
   ]
  },
  {
   "cell_type": "code",
   "execution_count": 10,
   "metadata": {},
   "outputs": [],
   "source": [
    "final_df = pd.DataFrame(final_df)"
   ]
  },
  {
   "cell_type": "code",
   "execution_count": 11,
   "metadata": {},
   "outputs": [],
   "source": [
    "final_df.to_csv(\"fashion_data_test.csv\", index=None)"
   ]
  },
  {
   "cell_type": "code",
   "execution_count": null,
   "metadata": {},
   "outputs": [],
   "source": []
  }
 ],
 "metadata": {
  "kernelspec": {
   "display_name": "tf",
   "language": "python",
   "name": "python3"
  },
  "language_info": {
   "codemirror_mode": {
    "name": "ipython",
    "version": 3
   },
   "file_extension": ".py",
   "mimetype": "text/x-python",
   "name": "python",
   "nbconvert_exporter": "python",
   "pygments_lexer": "ipython3",
   "version": "3.9.12"
  },
  "orig_nbformat": 4
 },
 "nbformat": 4,
 "nbformat_minor": 2
}
